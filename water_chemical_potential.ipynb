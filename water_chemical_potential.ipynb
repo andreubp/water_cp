{
 "cells": [
  {
   "cell_type": "markdown",
   "metadata": {},
   "source": [
    "# WATER CHEMICAL POTENTIAL\n",
    "### MSI project 2\n",
    "\n",
    "#### Andreu Bofill Pumarola\n",
    "____________"
   ]
  },
  {
   "cell_type": "markdown",
   "metadata": {},
   "source": [
    "\n",
    "#### INTRODUCTION\n",
    "The aim of this project is to create a python program which, given a set of molecular dynamics trajectories, computes the volumetric map of the chemical potential for water. Furthermore, the output of this program is a .cube file that you can open with VMD and observe the isosurface of water distribution. "
   ]
  },
  {
   "cell_type": "markdown",
   "metadata": {},
   "source": [
    "First of all we need to import the programs and functions we will use"
   ]
  },
  {
   "cell_type": "code",
   "execution_count": 1,
   "metadata": {
    "collapsed": false
   },
   "outputs": [
    {
     "name": "stdout",
     "output_type": "stream",
     "text": [
      "New HTMD version (1.0.22) is available. You are currently on (1.0.16). Use 'conda update htmd' to update to the new version.\n"
     ]
    }
   ],
   "source": [
    "from htmd import *\n",
    "import numpy as np\n",
    "import os\n",
    "from htmd.molecule.util import maxDistance\n",
    "import math\n",
    "from htmd.molecule.util import writeVoxels"
   ]
  },
  {
   "cell_type": "markdown",
   "metadata": {},
   "source": [
    "\n",
    "With the simlist function we import all the files needed. We use a pdb structure with 10 diferent simulations. So, we  have 10 simulations with 2000 trajectories/frames."
   ]
  },
  {
   "cell_type": "code",
   "execution_count": 2,
   "metadata": {
    "collapsed": false,
    "scrolled": true
   },
   "outputs": [
    {
     "name": "stdout",
     "output_type": "stream",
     "text": [
      "Creating simlist: 100% (10/10) [###################################] eta 00:01 -\n"
     ]
    }
   ],
   "source": [
    "sims = simlist(glob('pub.htmd.org/CXCL12-confAnalysis/*/'), glob('pub.htmd.org/CXCL12-confAnalysis/*/structure.pdb'), glob('pub.htmd.org/CXCL12-confAnalysis/*/'))"
   ]
  },
  {
   "cell_type": "markdown",
   "metadata": {},
   "source": [
    "Then, we need to charge the structure as a Molecule and read the trajectories of each simulation.\n",
    "The htmd function `align`, helps us to fix the molecule. and  it and save each one of them in a list than will make it easy to iterate throw. \n",
    "On this iteration we create another list of maximum coordenates, that subsequently we will use to extract the farthest x-coordinate of all the 10 pdb simuations. "
   ]
  },
  {
   "cell_type": "code",
   "execution_count": 3,
   "metadata": {
    "collapsed": false
   },
   "outputs": [],
   "source": [
    "mollist=[]\n",
    "maxcoord = []\n",
    "i = 0\n",
    "for el in sims:\n",
    "        molec = Molecule(el.molfile)\n",
    "        molec.read(el.trajectory)\n",
    "        molec.wrap()\n",
    "        molec.align(\"protein\", refmol=Molecule(el.molfile))\n",
    "        mollist.append(molec)\n",
    "        maxcoord.append(np.amax(molec.coords[:,0,0]))\n",
    "        maxcoord"
   ]
  },
  {
   "cell_type": "code",
   "execution_count": 4,
   "metadata": {
    "collapsed": false
   },
   "outputs": [],
   "source": [
    "mxc = int(max(maxcoord))\n",
    "mxc_alt = mxc * 1.1"
   ]
  },
  {
   "cell_type": "markdown",
   "metadata": {},
   "source": [
    "Finishing the input reading and  loading, we need to construct the 3-dimensional regular grid, where each dimension of it will have a size of 1Å. This matrix will give us a complete water distribution over all the 3-Dimensional space of the molecule. To construct it, we use the numpy function `zeros` . THe dimensions of the grid will be given by the maximum coordinate extracted previously and multiplied with an arbitrary number to assure a more comfortable grid to work. "
   ]
  },
  {
   "cell_type": "code",
   "execution_count": 5,
   "metadata": {
    "collapsed": false,
    "scrolled": true
   },
   "outputs": [],
   "source": [
    "box=np.zeros([int(mxc*2.3),int(mxc*2.3),int(mxc*2.3)])"
   ]
  },
  {
   "cell_type": "markdown",
   "metadata": {},
   "source": [
    "Next, we need to iterate over each Molecule. And within each iteration, we need to move the Molecule to avoid having any negative coordinates that will dificult our work. We also need to filter the Molecule to obtain only the Oxigen atoms of the water molecules. \n"
   ]
  },
  {
   "cell_type": "markdown",
   "metadata": {},
   "source": [
    "Then we iterate over each frame of the Molecule and also over each one of the Oxigen atom coordinates (x,y,z) within this frame. With this coordinates, we search the cell in the grid that this atom is located on and sum 1 into the count inside this cell. This approach will give us a oxigen atom counting 3D matrix."
   ]
  },
  {
   "cell_type": "code",
   "execution_count": 6,
   "metadata": {
    "collapsed": false
   },
   "outputs": [],
   "source": [
    "for mol in mollist:\n",
    "    mol.moveBy([mxc_alt,mxc_alt,mxc_alt])\n",
    "    mol.filter(\"water and name OH2\")\n",
    "    coords=mol.coords\n",
    "    for i in range(coords.shape[2]):\n",
    "        for co in coords[:,:,i]:\n",
    "            try:\n",
    "                a = int(np.floor(co[0]))\n",
    "                b = int(np.floor(co[1]))\n",
    "                c = int(np.floor(co[2]))\n",
    "                box[a,b,c] += 1\n",
    "            except:\n",
    "                pass"
   ]
  },
  {
   "cell_type": "markdown",
   "metadata": {},
   "source": [
    "Once we finish to fill the matrix with all the oxigen atom coordinates (x,y,z), we add a really low value (like `1e-41`) to avoid an error with all the 0's cells when we apply the `log(p(x,y,z))`.\n",
    "The boxsum represent the sum of all atoms computed inside the grid."
   ]
  },
  {
   "cell_type": "code",
   "execution_count": 7,
   "metadata": {
    "collapsed": false
   },
   "outputs": [
    {
     "data": {
      "text/plain": [
       "141319993.0"
      ]
     },
     "execution_count": 7,
     "metadata": {},
     "output_type": "execute_result"
    }
   ],
   "source": [
    "box += 1e-41\n",
    "boxsum = box.sum()\n",
    "boxsum"
   ]
  },
  {
   "cell_type": "markdown",
   "metadata": {},
   "source": [
    "To compute the chemical potential (`G(x,y,z)= - kB T log(p(x,y,z))`), we need to know the water occupancy, which is represented by the `log` variable as the oxigen distribution grid divided by the total number of atoms inside the grid. k is the Boltzmann constant (kB) and T is the temperature (298K)"
   ]
  },
  {
   "cell_type": "code",
   "execution_count": 8,
   "metadata": {
    "collapsed": false
   },
   "outputs": [],
   "source": [
    "log = np.log(box/(boxsum))\n",
    "k = 0.001987191\n",
    "G= -k*298*log"
   ]
  },
  {
   "cell_type": "markdown",
   "metadata": {},
   "source": [
    "Finally, we need to save the volumetric file, that will allows us to visualize the isosurface of water distribution."
   ]
  },
  {
   "cell_type": "code",
   "execution_count": 9,
   "metadata": {
    "collapsed": false,
    "scrolled": false
   },
   "outputs": [],
   "source": [
    "writeVoxels(G,\"isos_cube.cube\",np.array([0,0,0]),[mxc*2.3,mxc*2.3,mxc*2.3],np.array([1,1,1])) "
   ]
  },
  {
   "cell_type": "markdown",
   "metadata": {},
   "source": [
    "To visualize the isosurface of water distribution, you can open the VMD with the `isos_cube.cube` file and then change the Drawing method on Representations from lines to isosurface and increase a bit the isovalue range."
   ]
  },
  {
   "cell_type": "markdown",
   "metadata": {},
   "source": [
    "   "
   ]
  },
  {
   "cell_type": "markdown",
   "metadata": {},
   "source": [
    "#### OPTIONAL SECTION: GAUSSIAN NORMALITZATION"
   ]
  },
  {
   "cell_type": "markdown",
   "metadata": {},
   "source": [
    "<p> At this section we will use now a Gaussian filter to distribute the occupancy of a water oxygen over neighboring grib points, having the effect of interpolating between points.</p>\n",
    "<p>This normalitzation is used before the chemical potential calculation. So, after computing the gaussian_filter function, we need to load compute again te chemical potential formula, but using now the Gaussian normalitzation grid. Finally, we use the already seened `writeVoxels` function to visualize the volumetric file. </p>"
   ]
  },
  {
   "cell_type": "code",
   "execution_count": 10,
   "metadata": {
    "collapsed": true
   },
   "outputs": [],
   "source": [
    "from scipy.ndimage.filters import gaussian_filter"
   ]
  },
  {
   "cell_type": "code",
   "execution_count": 11,
   "metadata": {
    "collapsed": false
   },
   "outputs": [],
   "source": [
    "sigma = 1.5\n",
    "Gauss_box = gaussian_filter(box, sigma)"
   ]
  },
  {
   "cell_type": "code",
   "execution_count": 12,
   "metadata": {
    "collapsed": true
   },
   "outputs": [],
   "source": [
    "log = np.log(Gauss_box/(boxsum))\n",
    "k = 0.001987191\n",
    "G= -k*298*log"
   ]
  },
  {
   "cell_type": "code",
   "execution_count": 13,
   "metadata": {
    "collapsed": true
   },
   "outputs": [],
   "source": [
    "writeVoxels(G,\"cubefile.cube\",np.array([0,0,0]),[mxc*2.3,mxc*2.3,mxc*2.3],np.array([1,1,1])) "
   ]
  }
 ],
 "metadata": {
  "kernelspec": {
   "display_name": "Python 3",
   "language": "python",
   "name": "python3"
  },
  "language_info": {
   "codemirror_mode": {
    "name": "ipython",
    "version": 3
   },
   "file_extension": ".py",
   "mimetype": "text/x-python",
   "name": "python",
   "nbconvert_exporter": "python",
   "pygments_lexer": "ipython3",
   "version": "3.5.1"
  }
 },
 "nbformat": 4,
 "nbformat_minor": 0
}
